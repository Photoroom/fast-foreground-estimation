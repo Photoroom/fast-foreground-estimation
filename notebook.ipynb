{
 "cells": [
  {
   "cell_type": "code",
   "execution_count": null,
   "metadata": {},
   "outputs": [],
   "source": [
    "import numpy as np\n",
    "import matplotlib.pyplot as plt\n",
    "import cv2\n",
    "\n",
    "from blurfusion_foreground_estimation import FB_blur_fusion_foreground_estimator_2\n"
   ]
  },
  {
   "cell_type": "code",
   "execution_count": null,
   "metadata": {},
   "outputs": [],
   "source": [
    "\n",
    "image = cv2.imread('./images/GT04.jpeg')/255.0\n",
    "alpha = cv2.imread('./images/GT04.png', cv2.IMREAD_GRAYSCALE)/255.0\n"
   ]
  },
  {
   "cell_type": "code",
   "execution_count": null,
   "metadata": {},
   "outputs": [],
   "source": [
    "output = FB_blur_fusion_foreground_estimator_2(image, alpha)\n",
    "\n",
    "plt.imshow(output[:,:,::-1]*alpha[:,:,np.newaxis])\n",
    "plt.show()\n",
    "\n",
    "# composite onto a white background\n",
    "composite = output*alpha[:,:,np.newaxis] + (1-alpha[:,:,np.newaxis])\n",
    "\n",
    "# Save using opencv\n",
    "cv2.imwrite('./images/output.jpeg', composite*255)\n"
   ]
  }
 ],
 "metadata": {
  "kernelspec": {
   "display_name": "transformers",
   "language": "python",
   "name": "python3"
  },
  "language_info": {
   "codemirror_mode": {
    "name": "ipython",
    "version": 3
   },
   "file_extension": ".py",
   "mimetype": "text/x-python",
   "name": "python",
   "nbconvert_exporter": "python",
   "pygments_lexer": "ipython3",
   "version": "3.10.8"
  },
  "orig_nbformat": 4,
  "vscode": {
   "interpreter": {
    "hash": "4d0d1eaa750b89d6afd4c44cce9d2e1c3c8356fc7dcc0e0861dc4b4358d67d4c"
   }
  }
 },
 "nbformat": 4,
 "nbformat_minor": 2
}
